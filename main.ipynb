{
 "cells": [
  {
   "metadata": {
    "id": "8OLTF-Hjedtk"
   },
   "cell_type": "markdown",
   "source": [
    "# Imports"
   ]
  },
  {
   "cell_type": "code",
   "metadata": {
    "id": "gw301c00edto"
   },
   "source": [
    "import os\n",
    "\n",
    "import torch\n",
    "from torch import nn\n",
    "from torchvision import datasets, transforms\n",
    "from torch.utils.data import DataLoader\n",
    "\n",
    "import neptune\n",
    "from dotenv import load_dotenv\n",
    "import numpy as np\n",
    "import matplotlib.pyplot as plt\n",
    "from tqdm.notebook import tqdm"
   ],
   "outputs": [],
   "execution_count": null
  },
  {
   "metadata": {
    "id": "WpfM9h3qedtq"
   },
   "cell_type": "code",
   "source": [
    "load_dotenv()\n",
    "\n",
    "# device = \"cuda\"\n",
    "device = \"mps\""
   ],
   "outputs": [],
   "execution_count": null
  },
  {
   "metadata": {
    "id": "cmRw01Bhedtq"
   },
   "cell_type": "markdown",
   "source": [
    "# Dataset"
   ]
  },
  {
   "cell_type": "code",
   "metadata": {
    "colab": {
     "base_uri": "https://localhost:8080/"
    },
    "id": "d1Q-XWlGedtq",
    "outputId": "2aaac1b2-7297-46e4-bbfc-c5e523bbd0ec"
   },
   "source": [
    "training_data = datasets.FashionMNIST(\n",
    "    root=\"data\",\n",
    "    train=True,\n",
    "    download=True,\n",
    "    transform=transforms.ToTensor(),\n",
    "    target_transform=transforms.Lambda(lambda y: torch.zeros(10, dtype=torch.float).scatter_(0, torch.tensor(y), value=1))\n",
    ")\n",
    "test_data = datasets.FashionMNIST(\n",
    "    root=\"data\",\n",
    "    train=False,\n",
    "    download=True,\n",
    "    transform=transforms.ToTensor(),\n",
    "    target_transform=transforms.Lambda(lambda y: torch.zeros(10, dtype=torch.float).scatter_(0, torch.tensor(y), value=1))\n",
    ")"
   ],
   "outputs": [],
   "execution_count": null
  },
  {
   "cell_type": "code",
   "metadata": {
    "id": "e7GIXVrfedtr"
   },
   "source": [
    "train_dataloader = DataLoader(training_data, batch_size=64, shuffle=True)\n",
    "test_dataloader = DataLoader(test_data, batch_size=64, shuffle=True)"
   ],
   "outputs": [],
   "execution_count": null
  },
  {
   "metadata": {
    "id": "HTku-QPCedtr"
   },
   "cell_type": "markdown",
   "source": [
    "# Model"
   ]
  },
  {
   "cell_type": "code",
   "metadata": {
    "id": "wH0u_br5edtr"
   },
   "source": [
    "class ConvolutionalNeuralNetwork(nn.Module):\n",
    "    def __init__(self):\n",
    "        super().__init__()\n",
    "        self.conv1 = nn.Sequential(\n",
    "            nn.Conv2d(1,32,kernel_size=3),\n",
    "            nn.MaxPool2d(2,stride=1),\n",
    "            nn.ReLU()\n",
    "        )\n",
    "        self.conv2 = nn.Sequential(\n",
    "            nn.Conv2d(32,32,kernel_size=3),\n",
    "            nn.MaxPool2d(2,stride=1),\n",
    "            nn.ReLU()\n",
    "        )\n",
    "        self.conv3 = nn.Sequential(\n",
    "            nn.Conv2d(32,64,kernel_size=3),\n",
    "            nn.MaxPool2d(2,stride=2),\n",
    "            nn.ReLU()\n",
    "        )\n",
    "        self.fc1 = nn.Sequential(\n",
    "            nn.Linear(6400, 256),\n",
    "            nn.ReLU()\n",
    "        )\n",
    "        self.fc2 = nn.Sequential(\n",
    "            nn.Linear(256, 10),\n",
    "            nn.Softmax(dim=-1)\n",
    "        )\n",
    "\n",
    "    def forward(self, x):\n",
    "        x = self.conv1(x)\n",
    "        x = self.conv2(x)\n",
    "        x = self.conv3(x)\n",
    "        x = x.view(-1, 6400)\n",
    "        x = self.fc1(x)\n",
    "        logits = self.fc2(x)\n",
    "        return logits"
   ],
   "outputs": [],
   "execution_count": null
  },
  {
   "metadata": {
    "id": "dKMfiIA9edts"
   },
   "cell_type": "markdown",
   "source": [
    "# Experiment"
   ]
  },
  {
   "metadata": {
    "id": "jjxnC5Ftedts"
   },
   "cell_type": "markdown",
   "source": [
    "## Loops"
   ]
  },
  {
   "cell_type": "code",
   "metadata": {
    "id": "6lEPY6hcedtt"
   },
   "source": [
    "def train_loop(dataloader, model, loss_fn, optimizer):\n",
    "    model.train()\n",
    "    losses = []\n",
    "    for batch, (X, y) in enumerate(dataloader):\n",
    "        pred = model(X.to(device))\n",
    "        loss = loss_fn(pred, y.to(device))\n",
    "\n",
    "        loss.backward()\n",
    "        optimizer.step()\n",
    "        optimizer.zero_grad()\n",
    "\n",
    "        if batch % 100 == 0:\n",
    "            losses.append(loss.item())\n",
    "    return losses\n",
    "\n",
    "\n",
    "def test_loop(dataloader, model, loss_fn):\n",
    "    model.eval()\n",
    "    test_loss, correct = 0, 0\n",
    "    losses, accuracy = [], []\n",
    "\n",
    "    with torch.no_grad():\n",
    "        for batch, (X, y) in enumerate(dataloader):\n",
    "            pred = model(X.to(device))\n",
    "            test_loss = loss_fn(pred, y.to(device)).item()\n",
    "            correct += (pred.argmax(1) == y.argmax(1).to(device)).type(torch.float).sum().item()\n",
    "\n",
    "            if batch % 50 == 49:\n",
    "                losses.append(test_loss)\n",
    "                accuracy.append(correct / (pred.shape[0]*100))\n",
    "                correct = 0\n",
    "    return losses, accuracy"
   ],
   "outputs": [],
   "execution_count": null
  },
  {
   "cell_type": "code",
   "metadata": {
    "id": "M14EjSJmedtt"
   },
   "source": [
    "def experiment(train_dataloader, test_dataloader, model, loss_fn, optimizer, run, epochs = 100):\n",
    "    train_losses, test_losses, test_accuracy = [], [], []\n",
    "    for epoch in tqdm(range(epochs), desc=\"Epoch\"):\n",
    "        train_loss = train_loop(train_dataloader, model, loss_fn, optimizer)\n",
    "        train_loss = np.mean(train_loss)\n",
    "        train_losses.append(train_loss)\n",
    "        run[\"train/loss\"].append(train_loss)\n",
    "\n",
    "        test_loss, test_acc = test_loop(test_dataloader, model, loss_fn)\n",
    "        test_loss = np.mean(test_loss)\n",
    "        test_losses.append(test_loss)\n",
    "        run[\"test/loss\"].append(test_loss)\n",
    "        test_accuracy += test_acc\n",
    "        run[\"test/acc\"].append(np.mean(test_acc))\n",
    "    return train_losses, test_losses, test_accuracy"
   ],
   "outputs": [],
   "execution_count": null
  },
  {
   "metadata": {},
   "cell_type": "code",
   "outputs": [],
   "execution_count": null,
   "source": [
    "def init_neptune_run():\n",
    "    return neptune.init_run(project=os.getenv(\"NEPTUNE_PROJECT\"), \n",
    "                            api_token=os.getenv(\"NEPTUNE_API_TOKEN\"), \n",
    "                            capture_stdout=False, \n",
    "                            capture_stderr=False, \n",
    "                            capture_traceback=False, \n",
    "                            capture_hardware_metrics=False)"
   ]
  },
  {
   "cell_type": "code",
   "metadata": {
    "id": "z2FeAIZ7edtu"
   },
   "source": [
    "def plot_results(train_losses, test_losses, test_accuracy, name):\n",
    "    fig, axs = plt.subplots(1,2, figsize=(11,5))\n",
    "    axs[0].plot(train_losses, label= \"train\")\n",
    "    axs[0].plot(test_losses, label=\"test\")\n",
    "    axs[0].legend()\n",
    "    axs[0].set_xlabel(\"Epoch\")\n",
    "    axs[0].set_ylabel(\"Loss\")\n",
    "    axs[0].set_title(\"Training and test losses\")\n",
    "\n",
    "    axs[1].plot(test_accuracy)\n",
    "    axs[1].set_xlabel(\"3 values per epoch (every 50th batch)\")\n",
    "    axs[1].set_ylabel(\"Accuracy\")\n",
    "    axs[1].set_title(\"Test accuracy\")\n",
    "    plt.suptitle(name)\n",
    "    plt.show()"
   ],
   "outputs": [],
   "execution_count": null
  },
  {
   "metadata": {
    "id": "1R8BnqL2edtu"
   },
   "cell_type": "markdown",
   "source": [
    "## Runs"
   ]
  },
  {
   "cell_type": "code",
   "metadata": {
    "colab": {
     "base_uri": "https://localhost:8080/",
     "height": 389,
     "referenced_widgets": [
      "4950c65119f84554a3a26d8672136120",
      "b1c2667e34ea41f390b02facd627ea75",
      "411f3a2d170c4c1a8cf90d9f9d7a8ea8",
      "7d56eee418ab4a55a334e3560a0267fe",
      "ce0c17b1c67c4f28aaf618581f0fa4ae",
      "8821ae3cf5384144a9ed58202d19d7c5",
      "bc1a427d852c4cc48f5787cfc2ae6340",
      "268fc70c23b4470197e3341be4df30ea",
      "1387a23afe06432c97b4c057554b58a6",
      "b85385fb6d8649ad8bd488ba771757dd",
      "ba1bc765bdf34453878481a64cae6726"
     ]
    },
    "id": "yJr6QkFsedtu",
    "outputId": "d38d2384-2ac1-4e05-e08b-34265997fd25"
   },
   "source": [
    "model = ConvolutionalNeuralNetwork().to(device)\n",
    "run = init_neptune_run()\n",
    "run[\"parameters\"] = {\"optimizer\": \"SGD\"}\n",
    "train_losses, test_losses, test_accuracy = experiment(train_dataloader, test_dataloader,\n",
    "                                                      model, nn.CrossEntropyLoss().to(device),\n",
    "                                                      torch.optim.SGD(model.parameters(), lr=1e-3),\n",
    "                                                      run)\n",
    "run.stop()\n",
    "plot_results(train_losses, test_losses, test_accuracy, \"SGD\")"
   ],
   "outputs": [],
   "execution_count": null
  },
  {
   "cell_type": "code",
   "metadata": {
    "id": "VmCvr69cedtv"
   },
   "source": [
    "model = ConvolutionalNeuralNetwork().to(device)\n",
    "run = init_neptune_run()\n",
    "run[\"parameters\"] = {\"optimizer\": \"Adagrad\"}\n",
    "train_losses, test_losses, test_accuracy = experiment(train_dataloader, test_dataloader,\n",
    "                                                      model, nn.CrossEntropyLoss().to(device),\n",
    "                                                      torch.optim.Adagrad(model.parameters(), lr=1e-5),\n",
    "                                                      run)\n",
    "run.stop()\n",
    "plot_results(train_losses, test_losses, test_accuracy, \"Adagrad\")"
   ],
   "outputs": [],
   "execution_count": null
  },
  {
   "cell_type": "code",
   "metadata": {
    "id": "fPvrpFWqedtv"
   },
   "source": [
    "model = ConvolutionalNeuralNetwork().to(device)\n",
    "run = init_neptune_run()\n",
    "run[\"parameters\"] = {\"optimizer\": \"Adam\"}\n",
    "train_losses, test_losses, test_accuracy = experiment(train_dataloader, test_dataloader,\n",
    "                                                      model, nn.CrossEntropyLoss().to(device),\n",
    "                                                      torch.optim.Adam(model.parameters(), lr=1e-5),\n",
    "                                                      run)\n",
    "run.stop()\n",
    "plot_results(train_losses, test_losses, test_accuracy, \"Adam\")"
   ],
   "outputs": [],
   "execution_count": null
  }
 ],
 "metadata": {
  "kernelspec": {
   "display_name": "Python 3",
   "name": "python3"
  },
  "language_info": {
   "codemirror_mode": {
    "name": "ipython",
    "version": 3
   },
   "file_extension": ".py",
   "mimetype": "text/x-python",
   "name": "python",
   "nbconvert_exporter": "python",
   "pygments_lexer": "ipython3",
   "version": "3.11.7"
  },
  "colab": {
   "provenance": [],
   "toc_visible": true,
   "gpuType": "T4"
  },
  "accelerator": "GPU",
  "widgets": {
   "application/vnd.jupyter.widget-state+json": {
    "4950c65119f84554a3a26d8672136120": {
     "model_module": "@jupyter-widgets/controls",
     "model_name": "HBoxModel",
     "model_module_version": "1.5.0",
     "state": {
      "_dom_classes": [],
      "_model_module": "@jupyter-widgets/controls",
      "_model_module_version": "1.5.0",
      "_model_name": "HBoxModel",
      "_view_count": null,
      "_view_module": "@jupyter-widgets/controls",
      "_view_module_version": "1.5.0",
      "_view_name": "HBoxView",
      "box_style": "",
      "children": [
       "IPY_MODEL_b1c2667e34ea41f390b02facd627ea75",
       "IPY_MODEL_411f3a2d170c4c1a8cf90d9f9d7a8ea8",
       "IPY_MODEL_7d56eee418ab4a55a334e3560a0267fe"
      ],
      "layout": "IPY_MODEL_ce0c17b1c67c4f28aaf618581f0fa4ae"
     }
    },
    "b1c2667e34ea41f390b02facd627ea75": {
     "model_module": "@jupyter-widgets/controls",
     "model_name": "HTMLModel",
     "model_module_version": "1.5.0",
     "state": {
      "_dom_classes": [],
      "_model_module": "@jupyter-widgets/controls",
      "_model_module_version": "1.5.0",
      "_model_name": "HTMLModel",
      "_view_count": null,
      "_view_module": "@jupyter-widgets/controls",
      "_view_module_version": "1.5.0",
      "_view_name": "HTMLView",
      "description": "",
      "description_tooltip": null,
      "layout": "IPY_MODEL_8821ae3cf5384144a9ed58202d19d7c5",
      "placeholder": "​",
      "style": "IPY_MODEL_bc1a427d852c4cc48f5787cfc2ae6340",
      "value": "Epoch:  38%"
     }
    },
    "411f3a2d170c4c1a8cf90d9f9d7a8ea8": {
     "model_module": "@jupyter-widgets/controls",
     "model_name": "FloatProgressModel",
     "model_module_version": "1.5.0",
     "state": {
      "_dom_classes": [],
      "_model_module": "@jupyter-widgets/controls",
      "_model_module_version": "1.5.0",
      "_model_name": "FloatProgressModel",
      "_view_count": null,
      "_view_module": "@jupyter-widgets/controls",
      "_view_module_version": "1.5.0",
      "_view_name": "ProgressView",
      "bar_style": "danger",
      "description": "",
      "description_tooltip": null,
      "layout": "IPY_MODEL_268fc70c23b4470197e3341be4df30ea",
      "max": 100,
      "min": 0,
      "orientation": "horizontal",
      "style": "IPY_MODEL_1387a23afe06432c97b4c057554b58a6",
      "value": 38
     }
    },
    "7d56eee418ab4a55a334e3560a0267fe": {
     "model_module": "@jupyter-widgets/controls",
     "model_name": "HTMLModel",
     "model_module_version": "1.5.0",
     "state": {
      "_dom_classes": [],
      "_model_module": "@jupyter-widgets/controls",
      "_model_module_version": "1.5.0",
      "_model_name": "HTMLModel",
      "_view_count": null,
      "_view_module": "@jupyter-widgets/controls",
      "_view_module_version": "1.5.0",
      "_view_name": "HTMLView",
      "description": "",
      "description_tooltip": null,
      "layout": "IPY_MODEL_b85385fb6d8649ad8bd488ba771757dd",
      "placeholder": "​",
      "style": "IPY_MODEL_ba1bc765bdf34453878481a64cae6726",
      "value": " 38/100 [08:55&lt;13:35, 13.15s/it]"
     }
    },
    "ce0c17b1c67c4f28aaf618581f0fa4ae": {
     "model_module": "@jupyter-widgets/base",
     "model_name": "LayoutModel",
     "model_module_version": "1.2.0",
     "state": {
      "_model_module": "@jupyter-widgets/base",
      "_model_module_version": "1.2.0",
      "_model_name": "LayoutModel",
      "_view_count": null,
      "_view_module": "@jupyter-widgets/base",
      "_view_module_version": "1.2.0",
      "_view_name": "LayoutView",
      "align_content": null,
      "align_items": null,
      "align_self": null,
      "border": null,
      "bottom": null,
      "display": null,
      "flex": null,
      "flex_flow": null,
      "grid_area": null,
      "grid_auto_columns": null,
      "grid_auto_flow": null,
      "grid_auto_rows": null,
      "grid_column": null,
      "grid_gap": null,
      "grid_row": null,
      "grid_template_areas": null,
      "grid_template_columns": null,
      "grid_template_rows": null,
      "height": null,
      "justify_content": null,
      "justify_items": null,
      "left": null,
      "margin": null,
      "max_height": null,
      "max_width": null,
      "min_height": null,
      "min_width": null,
      "object_fit": null,
      "object_position": null,
      "order": null,
      "overflow": null,
      "overflow_x": null,
      "overflow_y": null,
      "padding": null,
      "right": null,
      "top": null,
      "visibility": null,
      "width": null
     }
    },
    "8821ae3cf5384144a9ed58202d19d7c5": {
     "model_module": "@jupyter-widgets/base",
     "model_name": "LayoutModel",
     "model_module_version": "1.2.0",
     "state": {
      "_model_module": "@jupyter-widgets/base",
      "_model_module_version": "1.2.0",
      "_model_name": "LayoutModel",
      "_view_count": null,
      "_view_module": "@jupyter-widgets/base",
      "_view_module_version": "1.2.0",
      "_view_name": "LayoutView",
      "align_content": null,
      "align_items": null,
      "align_self": null,
      "border": null,
      "bottom": null,
      "display": null,
      "flex": null,
      "flex_flow": null,
      "grid_area": null,
      "grid_auto_columns": null,
      "grid_auto_flow": null,
      "grid_auto_rows": null,
      "grid_column": null,
      "grid_gap": null,
      "grid_row": null,
      "grid_template_areas": null,
      "grid_template_columns": null,
      "grid_template_rows": null,
      "height": null,
      "justify_content": null,
      "justify_items": null,
      "left": null,
      "margin": null,
      "max_height": null,
      "max_width": null,
      "min_height": null,
      "min_width": null,
      "object_fit": null,
      "object_position": null,
      "order": null,
      "overflow": null,
      "overflow_x": null,
      "overflow_y": null,
      "padding": null,
      "right": null,
      "top": null,
      "visibility": null,
      "width": null
     }
    },
    "bc1a427d852c4cc48f5787cfc2ae6340": {
     "model_module": "@jupyter-widgets/controls",
     "model_name": "DescriptionStyleModel",
     "model_module_version": "1.5.0",
     "state": {
      "_model_module": "@jupyter-widgets/controls",
      "_model_module_version": "1.5.0",
      "_model_name": "DescriptionStyleModel",
      "_view_count": null,
      "_view_module": "@jupyter-widgets/base",
      "_view_module_version": "1.2.0",
      "_view_name": "StyleView",
      "description_width": ""
     }
    },
    "268fc70c23b4470197e3341be4df30ea": {
     "model_module": "@jupyter-widgets/base",
     "model_name": "LayoutModel",
     "model_module_version": "1.2.0",
     "state": {
      "_model_module": "@jupyter-widgets/base",
      "_model_module_version": "1.2.0",
      "_model_name": "LayoutModel",
      "_view_count": null,
      "_view_module": "@jupyter-widgets/base",
      "_view_module_version": "1.2.0",
      "_view_name": "LayoutView",
      "align_content": null,
      "align_items": null,
      "align_self": null,
      "border": null,
      "bottom": null,
      "display": null,
      "flex": null,
      "flex_flow": null,
      "grid_area": null,
      "grid_auto_columns": null,
      "grid_auto_flow": null,
      "grid_auto_rows": null,
      "grid_column": null,
      "grid_gap": null,
      "grid_row": null,
      "grid_template_areas": null,
      "grid_template_columns": null,
      "grid_template_rows": null,
      "height": null,
      "justify_content": null,
      "justify_items": null,
      "left": null,
      "margin": null,
      "max_height": null,
      "max_width": null,
      "min_height": null,
      "min_width": null,
      "object_fit": null,
      "object_position": null,
      "order": null,
      "overflow": null,
      "overflow_x": null,
      "overflow_y": null,
      "padding": null,
      "right": null,
      "top": null,
      "visibility": null,
      "width": null
     }
    },
    "1387a23afe06432c97b4c057554b58a6": {
     "model_module": "@jupyter-widgets/controls",
     "model_name": "ProgressStyleModel",
     "model_module_version": "1.5.0",
     "state": {
      "_model_module": "@jupyter-widgets/controls",
      "_model_module_version": "1.5.0",
      "_model_name": "ProgressStyleModel",
      "_view_count": null,
      "_view_module": "@jupyter-widgets/base",
      "_view_module_version": "1.2.0",
      "_view_name": "StyleView",
      "bar_color": null,
      "description_width": ""
     }
    },
    "b85385fb6d8649ad8bd488ba771757dd": {
     "model_module": "@jupyter-widgets/base",
     "model_name": "LayoutModel",
     "model_module_version": "1.2.0",
     "state": {
      "_model_module": "@jupyter-widgets/base",
      "_model_module_version": "1.2.0",
      "_model_name": "LayoutModel",
      "_view_count": null,
      "_view_module": "@jupyter-widgets/base",
      "_view_module_version": "1.2.0",
      "_view_name": "LayoutView",
      "align_content": null,
      "align_items": null,
      "align_self": null,
      "border": null,
      "bottom": null,
      "display": null,
      "flex": null,
      "flex_flow": null,
      "grid_area": null,
      "grid_auto_columns": null,
      "grid_auto_flow": null,
      "grid_auto_rows": null,
      "grid_column": null,
      "grid_gap": null,
      "grid_row": null,
      "grid_template_areas": null,
      "grid_template_columns": null,
      "grid_template_rows": null,
      "height": null,
      "justify_content": null,
      "justify_items": null,
      "left": null,
      "margin": null,
      "max_height": null,
      "max_width": null,
      "min_height": null,
      "min_width": null,
      "object_fit": null,
      "object_position": null,
      "order": null,
      "overflow": null,
      "overflow_x": null,
      "overflow_y": null,
      "padding": null,
      "right": null,
      "top": null,
      "visibility": null,
      "width": null
     }
    },
    "ba1bc765bdf34453878481a64cae6726": {
     "model_module": "@jupyter-widgets/controls",
     "model_name": "DescriptionStyleModel",
     "model_module_version": "1.5.0",
     "state": {
      "_model_module": "@jupyter-widgets/controls",
      "_model_module_version": "1.5.0",
      "_model_name": "DescriptionStyleModel",
      "_view_count": null,
      "_view_module": "@jupyter-widgets/base",
      "_view_module_version": "1.2.0",
      "_view_name": "StyleView",
      "description_width": ""
     }
    }
   }
  }
 },
 "nbformat": 4,
 "nbformat_minor": 0
}
